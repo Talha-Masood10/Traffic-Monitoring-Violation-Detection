{
  "nbformat": 4,
  "nbformat_minor": 0,
  "metadata": {
    "colab": {
      "provenance": []
    },
    "kernelspec": {
      "name": "python3",
      "display_name": "Python 3"
    },
    "language_info": {
      "name": "python"
    }
  },
  "cells": [
    {
      "cell_type": "code",
      "source": [
        "import cv2\n",
        "import numpy as np\n",
        "from ultralytics import YOLO\n",
        "from google.colab.patches import cv2_imshow # Import cv2_imshow for displaying images in Colab\n",
        "\n",
        "model = YOLO('yolov8n.pt')\n",
        "\n",
        "def detect_vehicles(frame):\n",
        "\n",
        "    results = model(frame)\n",
        "    detections = results[0].boxes\n",
        "    for box in detections:\n",
        "        x1, y1, x2, y2 = map(int, box.xyxy[0].tolist())\n",
        "        label = box.cls\n",
        "        confidence = box.conf\n",
        "        if confidence > 0.5:\n",
        "            cv2.rectangle(frame, (x1, y1), (x2, y2), (0, 255, 0), 2)\n",
        "            # Convert confidence to a float before formatting using .item()\n",
        "            cv2.putText(frame, f'Vehicle: {confidence.item():.2f}', (x1, y1 - 10), cv2.FONT_HERSHEY_SIMPLEX, 0.5, (0, 255, 0), 2)\n",
        "    return frame\n",
        "\n",
        "\n",
        "cap = cv2.VideoCapture('sample-video_tiny.mp4')\n",
        "while cap.isOpened():\n",
        "    ret, frame = cap.read()\n",
        "    if not ret:\n",
        "        break\n",
        "    frame = detect_vehicles(frame)\n",
        "    cv2_imshow(frame) # Use cv2_imshow instead of cv2.imshow\n",
        "    if cv2.waitKey(1) & 0xFF == ord('q'):\n",
        "        break\n",
        "cap.release()\n",
        "cv2.destroyAllWindows()"
      ],
      "metadata": {
        "id": "5flsNuNOndj6"
      },
      "execution_count": null,
      "outputs": []
    }
  ]
}
